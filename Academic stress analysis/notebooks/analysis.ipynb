{
 "cells": [
  {
   "cell_type": "code",
   "execution_count": 2,
   "id": "f049e8cf",
   "metadata": {},
   "outputs": [
    {
     "name": "stdout",
     "output_type": "stream",
     "text": [
      "Aperçu des données :\n",
      "             Timestamp Your Academic Stage  Peer pressure  \\\n",
      "0  24/07/2025 22:05:39       undergraduate              4   \n",
      "1  24/07/2025 22:05:52       undergraduate              3   \n",
      "2  24/07/2025 22:06:39       undergraduate              1   \n",
      "3  24/07/2025 22:06:45       undergraduate              3   \n",
      "4  24/07/2025 22:08:06       undergraduate              3   \n",
      "\n",
      "   Academic pressure from your home Study Environment  \\\n",
      "0                                 5             Noisy   \n",
      "1                                 4          Peaceful   \n",
      "2                                 1          Peaceful   \n",
      "3                                 2          Peaceful   \n",
      "4                                 3          Peaceful   \n",
      "\n",
      "          What coping strategy you use as a student?  \\\n",
      "0  Analyze the situation and handle it with intel...   \n",
      "1  Analyze the situation and handle it with intel...   \n",
      "2                   Social support (friends, family)   \n",
      "3  Analyze the situation and handle it with intel...   \n",
      "4  Analyze the situation and handle it with intel...   \n",
      "\n",
      "  Do you have any bad habits like smoking, drinking on a daily basis?  \\\n",
      "0                                                 No                    \n",
      "1                                                 No                    \n",
      "2                                                 No                    \n",
      "3                                                 No                    \n",
      "4                                                 No                    \n",
      "\n",
      "   What would you rate the academic  competition in your student life  \\\n",
      "0                                                  3                    \n",
      "1                                                  3                    \n",
      "2                                                  2                    \n",
      "3                                                  4                    \n",
      "4                                                  4                    \n",
      "\n",
      "   Rate your academic stress index   \n",
      "0                                 5  \n",
      "1                                 3  \n",
      "2                                 4  \n",
      "3                                 3  \n",
      "4                                 5  \n"
     ]
    }
   ],
   "source": [
    "import pandas as pd \n",
    "\n",
    "df = pd.read_csv(\"../../../data/Stress_Students/academic_stress_level.csv\")\n",
    "\n",
    "# Afficher les premières lignes du dataset\n",
    "print(\"Aperçu des données :\")\n",
    "print(df.head())"
   ]
  },
  {
   "cell_type": "code",
   "execution_count": 3,
   "id": "d42f7041",
   "metadata": {},
   "outputs": [
    {
     "name": "stdout",
     "output_type": "stream",
     "text": [
      "\n",
      "Informations sur le dataset :\n",
      "<class 'pandas.core.frame.DataFrame'>\n",
      "RangeIndex: 140 entries, 0 to 139\n",
      "Data columns (total 9 columns):\n",
      " #   Column                                                               Non-Null Count  Dtype \n",
      "---  ------                                                               --------------  ----- \n",
      " 0   Timestamp                                                            140 non-null    object\n",
      " 1   Your Academic Stage                                                  140 non-null    object\n",
      " 2   Peer pressure                                                        140 non-null    int64 \n",
      " 3   Academic pressure from your home                                     140 non-null    int64 \n",
      " 4   Study Environment                                                    139 non-null    object\n",
      " 5   What coping strategy you use as a student?                           140 non-null    object\n",
      " 6   Do you have any bad habits like smoking, drinking on a daily basis?  140 non-null    object\n",
      " 7   What would you rate the academic  competition in your student life   140 non-null    int64 \n",
      " 8   Rate your academic stress index                                      140 non-null    int64 \n",
      "dtypes: int64(4), object(5)\n",
      "memory usage: 10.0+ KB\n",
      "None\n"
     ]
    }
   ],
   "source": [
    "# Informations générales sur le dataset\n",
    "print(\"\\nInformations sur le dataset :\")\n",
    "print(df.info())"
   ]
  },
  {
   "cell_type": "code",
   "execution_count": null,
   "id": "1e11d5db",
   "metadata": {},
   "outputs": [
    {
     "name": "stdout",
     "output_type": "stream",
     "text": [
      "\n",
      "Statistiques descriptives :\n",
      "       Peer pressure  Academic pressure from your home  \\\n",
      "count     140.000000                        140.000000   \n",
      "mean        3.071429                          3.178571   \n",
      "std         1.083844                          1.276618   \n",
      "min         1.000000                          1.000000   \n",
      "25%         2.000000                          2.000000   \n",
      "50%         3.000000                          3.000000   \n",
      "75%         4.000000                          4.000000   \n",
      "max         5.000000                          5.000000   \n",
      "\n",
      "       What would you rate the academic  competition in your student life  \\\n",
      "count                                         140.000000                    \n",
      "mean                                            3.492857                    \n",
      "std                                             1.028349                    \n",
      "min                                             1.000000                    \n",
      "25%                                             3.000000                    \n",
      "50%                                             4.000000                    \n",
      "75%                                             4.000000                    \n",
      "max                                             5.000000                    \n",
      "\n",
      "       Rate your academic stress index   \n",
      "count                        140.000000  \n",
      "mean                           3.721429  \n",
      "std                            1.032339  \n",
      "min                            1.000000  \n",
      "25%                            3.000000  \n",
      "50%                            4.000000  \n",
      "75%                            4.000000  \n",
      "max                            5.000000  \n"
     ]
    }
   ],
   "source": [
    "# Statistiques descriptives\n",
    "print(\"\\nStatistiques descriptives :\")\n",
    "print(df.describe())"
   ]
  },
  {
   "cell_type": "code",
   "execution_count": 5,
   "id": "6957b050",
   "metadata": {},
   "outputs": [
    {
     "name": "stdout",
     "output_type": "stream",
     "text": [
      "\n",
      "Valeurs manquantes :\n",
      "Timestamp                                                              0\n",
      "Your Academic Stage                                                    0\n",
      "Peer pressure                                                          0\n",
      "Academic pressure from your home                                       0\n",
      "Study Environment                                                      1\n",
      "What coping strategy you use as a student?                             0\n",
      "Do you have any bad habits like smoking, drinking on a daily basis?    0\n",
      "What would you rate the academic  competition in your student life     0\n",
      "Rate your academic stress index                                        0\n",
      "dtype: int64\n"
     ]
    }
   ],
   "source": [
    "# Vérifier les valeurs manquantes\n",
    "print(\"\\nValeurs manquantes :\")\n",
    "print(df.isnull().sum())"
   ]
  },
  {
   "cell_type": "code",
   "execution_count": 7,
   "id": "20f056df",
   "metadata": {},
   "outputs": [
    {
     "data": {
      "text/html": [
       "<div>\n",
       "<style scoped>\n",
       "    .dataframe tbody tr th:only-of-type {\n",
       "        vertical-align: middle;\n",
       "    }\n",
       "\n",
       "    .dataframe tbody tr th {\n",
       "        vertical-align: top;\n",
       "    }\n",
       "\n",
       "    .dataframe thead th {\n",
       "        text-align: right;\n",
       "    }\n",
       "</style>\n",
       "<table border=\"1\" class=\"dataframe\">\n",
       "  <thead>\n",
       "    <tr style=\"text-align: right;\">\n",
       "      <th></th>\n",
       "      <th>Timestamp</th>\n",
       "      <th>Your Academic Stage</th>\n",
       "      <th>Peer pressure</th>\n",
       "      <th>Academic pressure from your home</th>\n",
       "      <th>Study Environment</th>\n",
       "      <th>What coping strategy you use as a student?</th>\n",
       "      <th>Do you have any bad habits like smoking, drinking on a daily basis?</th>\n",
       "      <th>What would you rate the academic  competition in your student life</th>\n",
       "      <th>Rate your academic stress index</th>\n",
       "    </tr>\n",
       "  </thead>\n",
       "  <tbody>\n",
       "    <tr>\n",
       "      <th>129</th>\n",
       "      <td>12/08/2025 12:13:46</td>\n",
       "      <td>undergraduate</td>\n",
       "      <td>5</td>\n",
       "      <td>5</td>\n",
       "      <td>NaN</td>\n",
       "      <td>Emotional breakdown (crying a lot)</td>\n",
       "      <td>No</td>\n",
       "      <td>5</td>\n",
       "      <td>4</td>\n",
       "    </tr>\n",
       "  </tbody>\n",
       "</table>\n",
       "</div>"
      ],
      "text/plain": [
       "               Timestamp Your Academic Stage  Peer pressure  \\\n",
       "129  12/08/2025 12:13:46       undergraduate              5   \n",
       "\n",
       "     Academic pressure from your home Study Environment  \\\n",
       "129                                 5               NaN   \n",
       "\n",
       "    What coping strategy you use as a student?  \\\n",
       "129         Emotional breakdown (crying a lot)   \n",
       "\n",
       "    Do you have any bad habits like smoking, drinking on a daily basis?  \\\n",
       "129                                                 No                    \n",
       "\n",
       "     What would you rate the academic  competition in your student life  \\\n",
       "129                                                  5                    \n",
       "\n",
       "     Rate your academic stress index   \n",
       "129                                 4  "
      ]
     },
     "execution_count": 7,
     "metadata": {},
     "output_type": "execute_result"
    }
   ],
   "source": [
    "df[df['Study Environment'].isnull()]"
   ]
  },
  {
   "cell_type": "code",
   "execution_count": 8,
   "id": "68a41198",
   "metadata": {},
   "outputs": [
    {
     "data": {
      "text/plain": [
       "Study Environment\n",
       "Peaceful     69\n",
       "disrupted    38\n",
       "Noisy        32\n",
       "Name: count, dtype: int64"
      ]
     },
     "execution_count": 8,
     "metadata": {},
     "output_type": "execute_result"
    }
   ],
   "source": [
    "df['Study Environment'].value_counts()"
   ]
  },
  {
   "cell_type": "code",
   "execution_count": 9,
   "id": "6961f83d",
   "metadata": {},
   "outputs": [
    {
     "data": {
      "text/plain": [
       "Index(['Timestamp', 'Your Academic Stage', 'Peer pressure',\n",
       "       'Academic pressure from your home', 'Study Environment',\n",
       "       'What coping strategy you use as a student?',\n",
       "       'Do you have any bad habits like smoking, drinking on a daily basis?',\n",
       "       'What would you rate the academic  competition in your student life',\n",
       "       'Rate your academic stress index '],\n",
       "      dtype='object')"
      ]
     },
     "execution_count": 9,
     "metadata": {},
     "output_type": "execute_result"
    }
   ],
   "source": [
    "df.columns"
   ]
  },
  {
   "cell_type": "code",
   "execution_count": 6,
   "id": "ba16bef3",
   "metadata": {},
   "outputs": [],
   "source": [
    "# Exemple d'encodage pour une colonne ordinale\n",
    "stress_mapping = {'Faible': 1, 'Moyen': 3, 'Élevé': 5}\n",
    "df['Rate your academic stress index '] = df['Rate your academic stress index '].map(stress_mapping)\n",
    "df['What would you rate the academic  competition in your student life'] = df['What would you rate the academic  competition in your student life'].map(stress_mapping)"
   ]
  },
  {
   "cell_type": "code",
   "execution_count": 7,
   "id": "64757262",
   "metadata": {},
   "outputs": [
    {
     "data": {
      "image/png": "[encoded data removed]",
      "text/plain": [
       "<Figure size 1000x600 with 1 Axes>"
      ]
     },
     "metadata": {},
     "output_type": "display_data"
    }
   ],
   "source": [
    "import seaborn as sns\n",
    "import matplotlib.pyplot as plt\n",
    "\n",
    "\n",
    "sns.set_style(\"whitegrid\") \n",
    "\n",
    "# Créer un nuage de points\n",
    "plt.figure(figsize=(10, 6))  \n",
    "sns.scatterplot(data=df, x=\"Study Environment\", y=\"Rate your academic stress index \", hue=\"Your Academic Stage\",  palette=\"viridis\")\n",
    "\n",
    "# Personnaliser le graphique\n",
    "plt.title(\"Relation entre la pression académique des relations par rapport au stress académique selon le niveau\", fontsize=14, pad=15)\n",
    "plt.xlabel(\"Pression académique à la maison\", fontsize=12)\n",
    "plt.ylabel(\"Stress académique\", fontsize=12)\n",
    "\n",
    "# Afficher le graphique\n",
    "plt.show()"
   ]
  }
 ],
 "metadata": {
  "kernelspec": {
   "display_name": "stress_analyse",
   "language": "python",
   "name": "python3"
  },
  "language_info": {
   "codemirror_mode": {
    "name": "ipython",
    "version": 3
   },
   "file_extension": ".py",
   "mimetype": "text/x-python",
   "name": "python",
   "nbconvert_exporter": "python",
   "pygments_lexer": "ipython3",
   "version": "3.11.13"
  }
 },
 "nbformat": 4,
 "nbformat_minor": 5
}
